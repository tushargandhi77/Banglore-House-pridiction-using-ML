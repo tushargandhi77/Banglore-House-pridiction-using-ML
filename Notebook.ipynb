{
 "cells": [
  {
   "cell_type": "code",
   "execution_count": 1,
   "metadata": {
    "collapsed": true,
    "ExecuteTime": {
     "end_time": "2023-08-26T04:22:16.875009100Z",
     "start_time": "2023-08-26T04:22:16.785703100Z"
    }
   },
   "outputs": [],
   "source": [
    "import pandas as pd\n",
    "import numpy as np\n",
    "import seaborn as sns"
   ]
  },
  {
   "cell_type": "code",
   "execution_count": 2,
   "outputs": [
    {
     "data": {
      "text/plain": "              area_type   availability                  location       size  \\\n0  Super built-up  Area         19-Dec  Electronic City Phase II      2 BHK   \n1            Plot  Area  Ready To Move          Chikka Tirupathi  4 Bedroom   \n2        Built-up  Area  Ready To Move               Uttarahalli      3 BHK   \n3  Super built-up  Area  Ready To Move        Lingadheeranahalli      3 BHK   \n4  Super built-up  Area  Ready To Move                  Kothanur      2 BHK   \n5  Super built-up  Area  Ready To Move                Whitefield      2 BHK   \n6  Super built-up  Area         18-May          Old Airport Road      4 BHK   \n7  Super built-up  Area  Ready To Move              Rajaji Nagar      4 BHK   \n8  Super built-up  Area  Ready To Move              Marathahalli      3 BHK   \n9            Plot  Area  Ready To Move              Gandhi Bazar  6 Bedroom   \n\n   society total_sqft  bath  balcony   price  \n0  Coomee        1056   2.0      1.0   39.07  \n1  Theanmp       2600   5.0      3.0  120.00  \n2      NaN       1440   2.0      3.0   62.00  \n3  Soiewre       1521   3.0      1.0   95.00  \n4      NaN       1200   2.0      1.0   51.00  \n5  DuenaTa       1170   2.0      1.0   38.00  \n6  Jaades        2732   4.0      NaN  204.00  \n7  Brway G       3300   4.0      NaN  600.00  \n8      NaN       1310   3.0      1.0   63.25  \n9      NaN       1020   6.0      NaN  370.00  ",
      "text/html": "<div>\n<style scoped>\n    .dataframe tbody tr th:only-of-type {\n        vertical-align: middle;\n    }\n\n    .dataframe tbody tr th {\n        vertical-align: top;\n    }\n\n    .dataframe thead th {\n        text-align: right;\n    }\n</style>\n<table border=\"1\" class=\"dataframe\">\n  <thead>\n    <tr style=\"text-align: right;\">\n      <th></th>\n      <th>area_type</th>\n      <th>availability</th>\n      <th>location</th>\n      <th>size</th>\n      <th>society</th>\n      <th>total_sqft</th>\n      <th>bath</th>\n      <th>balcony</th>\n      <th>price</th>\n    </tr>\n  </thead>\n  <tbody>\n    <tr>\n      <th>0</th>\n      <td>Super built-up  Area</td>\n      <td>19-Dec</td>\n      <td>Electronic City Phase II</td>\n      <td>2 BHK</td>\n      <td>Coomee</td>\n      <td>1056</td>\n      <td>2.0</td>\n      <td>1.0</td>\n      <td>39.07</td>\n    </tr>\n    <tr>\n      <th>1</th>\n      <td>Plot  Area</td>\n      <td>Ready To Move</td>\n      <td>Chikka Tirupathi</td>\n      <td>4 Bedroom</td>\n      <td>Theanmp</td>\n      <td>2600</td>\n      <td>5.0</td>\n      <td>3.0</td>\n      <td>120.00</td>\n    </tr>\n    <tr>\n      <th>2</th>\n      <td>Built-up  Area</td>\n      <td>Ready To Move</td>\n      <td>Uttarahalli</td>\n      <td>3 BHK</td>\n      <td>NaN</td>\n      <td>1440</td>\n      <td>2.0</td>\n      <td>3.0</td>\n      <td>62.00</td>\n    </tr>\n    <tr>\n      <th>3</th>\n      <td>Super built-up  Area</td>\n      <td>Ready To Move</td>\n      <td>Lingadheeranahalli</td>\n      <td>3 BHK</td>\n      <td>Soiewre</td>\n      <td>1521</td>\n      <td>3.0</td>\n      <td>1.0</td>\n      <td>95.00</td>\n    </tr>\n    <tr>\n      <th>4</th>\n      <td>Super built-up  Area</td>\n      <td>Ready To Move</td>\n      <td>Kothanur</td>\n      <td>2 BHK</td>\n      <td>NaN</td>\n      <td>1200</td>\n      <td>2.0</td>\n      <td>1.0</td>\n      <td>51.00</td>\n    </tr>\n    <tr>\n      <th>5</th>\n      <td>Super built-up  Area</td>\n      <td>Ready To Move</td>\n      <td>Whitefield</td>\n      <td>2 BHK</td>\n      <td>DuenaTa</td>\n      <td>1170</td>\n      <td>2.0</td>\n      <td>1.0</td>\n      <td>38.00</td>\n    </tr>\n    <tr>\n      <th>6</th>\n      <td>Super built-up  Area</td>\n      <td>18-May</td>\n      <td>Old Airport Road</td>\n      <td>4 BHK</td>\n      <td>Jaades</td>\n      <td>2732</td>\n      <td>4.0</td>\n      <td>NaN</td>\n      <td>204.00</td>\n    </tr>\n    <tr>\n      <th>7</th>\n      <td>Super built-up  Area</td>\n      <td>Ready To Move</td>\n      <td>Rajaji Nagar</td>\n      <td>4 BHK</td>\n      <td>Brway G</td>\n      <td>3300</td>\n      <td>4.0</td>\n      <td>NaN</td>\n      <td>600.00</td>\n    </tr>\n    <tr>\n      <th>8</th>\n      <td>Super built-up  Area</td>\n      <td>Ready To Move</td>\n      <td>Marathahalli</td>\n      <td>3 BHK</td>\n      <td>NaN</td>\n      <td>1310</td>\n      <td>3.0</td>\n      <td>1.0</td>\n      <td>63.25</td>\n    </tr>\n    <tr>\n      <th>9</th>\n      <td>Plot  Area</td>\n      <td>Ready To Move</td>\n      <td>Gandhi Bazar</td>\n      <td>6 Bedroom</td>\n      <td>NaN</td>\n      <td>1020</td>\n      <td>6.0</td>\n      <td>NaN</td>\n      <td>370.00</td>\n    </tr>\n  </tbody>\n</table>\n</div>"
     },
     "execution_count": 2,
     "metadata": {},
     "output_type": "execute_result"
    }
   ],
   "source": [
    "df = pd.read_csv('Bengaluru_House_Data.csv')\n",
    "df.head(10)"
   ],
   "metadata": {
    "collapsed": false,
    "ExecuteTime": {
     "end_time": "2023-08-26T04:22:17.155459100Z",
     "start_time": "2023-08-26T04:22:16.802478900Z"
    }
   }
  },
  {
   "cell_type": "code",
   "execution_count": 3,
   "outputs": [
    {
     "data": {
      "text/plain": "529"
     },
     "execution_count": 3,
     "metadata": {},
     "output_type": "execute_result"
    }
   ],
   "source": [
    "df.duplicated().sum()\n"
   ],
   "metadata": {
    "collapsed": false,
    "ExecuteTime": {
     "end_time": "2023-08-26T04:22:17.191085700Z",
     "start_time": "2023-08-26T04:22:17.133149400Z"
    }
   }
  },
  {
   "cell_type": "code",
   "execution_count": 4,
   "outputs": [
    {
     "name": "stdout",
     "output_type": "stream",
     "text": [
      "<class 'pandas.core.frame.DataFrame'>\n",
      "RangeIndex: 13320 entries, 0 to 13319\n",
      "Data columns (total 9 columns):\n",
      " #   Column        Non-Null Count  Dtype  \n",
      "---  ------        --------------  -----  \n",
      " 0   area_type     13320 non-null  object \n",
      " 1   availability  13320 non-null  object \n",
      " 2   location      13319 non-null  object \n",
      " 3   size          13304 non-null  object \n",
      " 4   society       7818 non-null   object \n",
      " 5   total_sqft    13320 non-null  object \n",
      " 6   bath          13247 non-null  float64\n",
      " 7   balcony       12711 non-null  float64\n",
      " 8   price         13320 non-null  float64\n",
      "dtypes: float64(3), object(6)\n",
      "memory usage: 936.7+ KB\n"
     ]
    }
   ],
   "source": [
    "df.info()"
   ],
   "metadata": {
    "collapsed": false,
    "ExecuteTime": {
     "end_time": "2023-08-26T04:22:17.344673700Z",
     "start_time": "2023-08-26T04:22:17.193079600Z"
    }
   }
  },
  {
   "cell_type": "code",
   "execution_count": 5,
   "outputs": [
    {
     "data": {
      "text/plain": "13320"
     },
     "execution_count": 5,
     "metadata": {},
     "output_type": "execute_result"
    }
   ],
   "source": [
    "len(df)"
   ],
   "metadata": {
    "collapsed": false,
    "ExecuteTime": {
     "end_time": "2023-08-26T04:22:17.345670900Z",
     "start_time": "2023-08-26T04:22:17.305778600Z"
    }
   }
  },
  {
   "cell_type": "markdown",
   "source": [
    "## Remove Duplicates Value"
   ],
   "metadata": {
    "collapsed": false
   }
  },
  {
   "cell_type": "code",
   "execution_count": 6,
   "outputs": [],
   "source": [
    "df = df.drop_duplicates()"
   ],
   "metadata": {
    "collapsed": false,
    "ExecuteTime": {
     "end_time": "2023-08-26T04:22:17.449393800Z",
     "start_time": "2023-08-26T04:22:17.319741300Z"
    }
   }
  },
  {
   "cell_type": "code",
   "execution_count": 7,
   "outputs": [
    {
     "data": {
      "text/plain": "12791"
     },
     "execution_count": 7,
     "metadata": {},
     "output_type": "execute_result"
    }
   ],
   "source": [
    "len(df)"
   ],
   "metadata": {
    "collapsed": false,
    "ExecuteTime": {
     "end_time": "2023-08-26T04:22:17.449393800Z",
     "start_time": "2023-08-26T04:22:17.355646200Z"
    }
   }
  },
  {
   "cell_type": "code",
   "execution_count": 8,
   "outputs": [
    {
     "data": {
      "text/plain": "area_type          0\navailability       0\nlocation           1\nsize              16\nsociety         5328\ntotal_sqft         0\nbath              73\nbalcony          605\nprice              0\ndtype: int64"
     },
     "execution_count": 8,
     "metadata": {},
     "output_type": "execute_result"
    }
   ],
   "source": [
    "df.isna().sum()"
   ],
   "metadata": {
    "collapsed": false,
    "ExecuteTime": {
     "end_time": "2023-08-26T04:22:17.488290Z",
     "start_time": "2023-08-26T04:22:17.371603700Z"
    }
   }
  },
  {
   "cell_type": "markdown",
   "source": [
    "## Remove Society"
   ],
   "metadata": {
    "collapsed": false
   }
  },
  {
   "cell_type": "code",
   "execution_count": 8,
   "outputs": [],
   "source": [],
   "metadata": {
    "collapsed": false,
    "ExecuteTime": {
     "end_time": "2023-08-26T04:22:17.489287800Z",
     "start_time": "2023-08-26T04:22:17.397533Z"
    }
   }
  },
  {
   "cell_type": "code",
   "execution_count": 9,
   "outputs": [],
   "source": [
    "df.drop(columns=['society'],inplace=True)"
   ],
   "metadata": {
    "collapsed": false,
    "ExecuteTime": {
     "end_time": "2023-08-26T04:22:17.489287800Z",
     "start_time": "2023-08-26T04:22:17.414487500Z"
    }
   }
  },
  {
   "cell_type": "markdown",
   "source": [
    "## Null Value Treatment"
   ],
   "metadata": {
    "collapsed": false
   }
  },
  {
   "cell_type": "code",
   "execution_count": 10,
   "outputs": [
    {
     "data": {
      "text/plain": "area_type         0\navailability      0\nlocation          1\nsize             16\ntotal_sqft        0\nbath             73\nbalcony         605\nprice             0\ndtype: int64"
     },
     "execution_count": 10,
     "metadata": {},
     "output_type": "execute_result"
    }
   ],
   "source": [
    "df.isna().sum()"
   ],
   "metadata": {
    "collapsed": false,
    "ExecuteTime": {
     "end_time": "2023-08-26T04:22:17.489287800Z",
     "start_time": "2023-08-26T04:22:17.429447500Z"
    }
   }
  },
  {
   "cell_type": "code",
   "execution_count": 11,
   "outputs": [],
   "source": [
    "df['bath'].fillna(df['bath'].median(),inplace=True)"
   ],
   "metadata": {
    "collapsed": false,
    "ExecuteTime": {
     "end_time": "2023-08-26T04:22:17.491282400Z",
     "start_time": "2023-08-26T04:22:17.445406400Z"
    }
   }
  },
  {
   "cell_type": "code",
   "execution_count": 12,
   "outputs": [],
   "source": [
    "df['balcony'].fillna(df['balcony'].median(),inplace=True)"
   ],
   "metadata": {
    "collapsed": false,
    "ExecuteTime": {
     "end_time": "2023-08-26T04:22:17.492279900Z",
     "start_time": "2023-08-26T04:22:17.461363Z"
    }
   }
  },
  {
   "cell_type": "code",
   "execution_count": 13,
   "outputs": [
    {
     "data": {
      "text/plain": "area_type        0\navailability     0\nlocation         1\nsize            16\ntotal_sqft       0\nbath             0\nbalcony          0\nprice            0\ndtype: int64"
     },
     "execution_count": 13,
     "metadata": {},
     "output_type": "execute_result"
    }
   ],
   "source": [
    "df.isna().sum()"
   ],
   "metadata": {
    "collapsed": false,
    "ExecuteTime": {
     "end_time": "2023-08-26T04:22:17.494274400Z",
     "start_time": "2023-08-26T04:22:17.475325800Z"
    }
   }
  },
  {
   "cell_type": "code",
   "execution_count": 14,
   "outputs": [],
   "source": [
    "dt = df.dropna()"
   ],
   "metadata": {
    "collapsed": false,
    "ExecuteTime": {
     "end_time": "2023-08-26T04:22:17.509234400Z",
     "start_time": "2023-08-26T04:22:17.493277400Z"
    }
   }
  },
  {
   "cell_type": "code",
   "execution_count": 15,
   "outputs": [
    {
     "data": {
      "text/plain": "12774"
     },
     "execution_count": 15,
     "metadata": {},
     "output_type": "execute_result"
    }
   ],
   "source": [
    "len(dt)"
   ],
   "metadata": {
    "collapsed": false,
    "ExecuteTime": {
     "end_time": "2023-08-26T04:22:17.553116800Z",
     "start_time": "2023-08-26T04:22:17.509234400Z"
    }
   }
  },
  {
   "cell_type": "code",
   "execution_count": 16,
   "outputs": [],
   "source": [
    "df = dt"
   ],
   "metadata": {
    "collapsed": false,
    "ExecuteTime": {
     "end_time": "2023-08-26T04:22:17.554114300Z",
     "start_time": "2023-08-26T04:22:17.527186600Z"
    }
   }
  },
  {
   "cell_type": "code",
   "execution_count": 17,
   "outputs": [
    {
     "data": {
      "text/plain": "area_type       0\navailability    0\nlocation        0\nsize            0\ntotal_sqft      0\nbath            0\nbalcony         0\nprice           0\ndtype: int64"
     },
     "execution_count": 17,
     "metadata": {},
     "output_type": "execute_result"
    }
   ],
   "source": [
    "df.isna().sum()"
   ],
   "metadata": {
    "collapsed": false,
    "ExecuteTime": {
     "end_time": "2023-08-26T04:22:17.573063800Z",
     "start_time": "2023-08-26T04:22:17.539154200Z"
    }
   }
  },
  {
   "cell_type": "code",
   "execution_count": 18,
   "outputs": [
    {
     "name": "stderr",
     "output_type": "stream",
     "text": [
      "C:\\Users\\TUSHAR GANDHI\\AppData\\Local\\Temp\\ipykernel_19664\\4207564571.py:1: UserWarning: \n",
      "\n",
      "`distplot` is a deprecated function and will be removed in seaborn v0.14.0.\n",
      "\n",
      "Please adapt your code to use either `displot` (a figure-level function with\n",
      "similar flexibility) or `histplot` (an axes-level function for histograms).\n",
      "\n",
      "For a guide to updating your code to use the new functions, please see\n",
      "https://gist.github.com/mwaskom/de44147ed2974457ad6372750bbe5751\n",
      "\n",
      "  sns.distplot(df['price'])\n"
     ]
    },
    {
     "data": {
      "text/plain": "<Axes: xlabel='price', ylabel='Density'>"
     },
     "execution_count": 18,
     "metadata": {},
     "output_type": "execute_result"
    },
    {
     "data": {
      "text/plain": "<Figure size 640x480 with 1 Axes>",
      "image/png": "[encoded data removed]"
     },
     "metadata": {},
     "output_type": "display_data"
    }
   ],
   "source": [
    "sns.distplot(df['price'])"
   ],
   "metadata": {
    "collapsed": false,
    "ExecuteTime": {
     "end_time": "2023-08-26T04:22:18.727454900Z",
     "start_time": "2023-08-26T04:22:17.573063800Z"
    }
   }
  },
  {
   "cell_type": "markdown",
   "source": [
    "## Columns Transformation"
   ],
   "metadata": {
    "collapsed": false
   }
  },
  {
   "cell_type": "markdown",
   "source": [
    "### Area Type"
   ],
   "metadata": {
    "collapsed": false
   }
  },
  {
   "cell_type": "code",
   "execution_count": 19,
   "outputs": [
    {
     "data": {
      "text/plain": "              0               1\n0         Super  built-up  Area\n1          Plot            Area\n2      Built-up            Area\n3         Super  built-up  Area\n4         Super  built-up  Area\n...         ...             ...\n13314     Super  built-up  Area\n13315  Built-up            Area\n13316     Super  built-up  Area\n13317  Built-up            Area\n13318     Super  built-up  Area\n\n[12774 rows x 2 columns]",
      "text/html": "<div>\n<style scoped>\n    .dataframe tbody tr th:only-of-type {\n        vertical-align: middle;\n    }\n\n    .dataframe tbody tr th {\n        vertical-align: top;\n    }\n\n    .dataframe thead th {\n        text-align: right;\n    }\n</style>\n<table border=\"1\" class=\"dataframe\">\n  <thead>\n    <tr style=\"text-align: right;\">\n      <th></th>\n      <th>0</th>\n      <th>1</th>\n    </tr>\n  </thead>\n  <tbody>\n    <tr>\n      <th>0</th>\n      <td>Super</td>\n      <td>built-up  Area</td>\n    </tr>\n    <tr>\n      <th>1</th>\n      <td>Plot</td>\n      <td>Area</td>\n    </tr>\n    <tr>\n      <th>2</th>\n      <td>Built-up</td>\n      <td>Area</td>\n    </tr>\n    <tr>\n      <th>3</th>\n      <td>Super</td>\n      <td>built-up  Area</td>\n    </tr>\n    <tr>\n      <th>4</th>\n      <td>Super</td>\n      <td>built-up  Area</td>\n    </tr>\n    <tr>\n      <th>...</th>\n      <td>...</td>\n      <td>...</td>\n    </tr>\n    <tr>\n      <th>13314</th>\n      <td>Super</td>\n      <td>built-up  Area</td>\n    </tr>\n    <tr>\n      <th>13315</th>\n      <td>Built-up</td>\n      <td>Area</td>\n    </tr>\n    <tr>\n      <th>13316</th>\n      <td>Super</td>\n      <td>built-up  Area</td>\n    </tr>\n    <tr>\n      <th>13317</th>\n      <td>Built-up</td>\n      <td>Area</td>\n    </tr>\n    <tr>\n      <th>13318</th>\n      <td>Super</td>\n      <td>built-up  Area</td>\n    </tr>\n  </tbody>\n</table>\n<p>12774 rows × 2 columns</p>\n</div>"
     },
     "execution_count": 19,
     "metadata": {},
     "output_type": "execute_result"
    }
   ],
   "source": [
    "df['area_type'].value_counts()\n",
    "n1 = df['area_type'].str.split(n=1,expand=True)\n",
    "n1"
   ],
   "metadata": {
    "collapsed": false,
    "ExecuteTime": {
     "end_time": "2023-08-26T04:22:18.797781Z",
     "start_time": "2023-08-26T04:22:18.728452300Z"
    }
   }
  },
  {
   "cell_type": "code",
   "execution_count": 20,
   "outputs": [],
   "source": [
    "df['area'] = n1[0]"
   ],
   "metadata": {
    "collapsed": false,
    "ExecuteTime": {
     "end_time": "2023-08-26T04:22:18.797781Z",
     "start_time": "2023-08-26T04:22:18.758885700Z"
    }
   }
  },
  {
   "cell_type": "code",
   "execution_count": 21,
   "outputs": [],
   "source": [
    "df['area_type'] = df['area']\n",
    "df.drop(columns='area',inplace=True)"
   ],
   "metadata": {
    "collapsed": false,
    "ExecuteTime": {
     "end_time": "2023-08-26T04:22:18.798778400Z",
     "start_time": "2023-08-26T04:22:18.774843Z"
    }
   }
  },
  {
   "cell_type": "code",
   "execution_count": 22,
   "outputs": [
    {
     "data": {
      "text/plain": "      area_type   availability                  location       size  \\\n0         Super         19-Dec  Electronic City Phase II      2 BHK   \n1          Plot  Ready To Move          Chikka Tirupathi  4 Bedroom   \n2      Built-up  Ready To Move               Uttarahalli      3 BHK   \n3         Super  Ready To Move        Lingadheeranahalli      3 BHK   \n4         Super  Ready To Move                  Kothanur      2 BHK   \n...         ...            ...                       ...        ...   \n13314     Super  Ready To Move         Green Glen Layout      3 BHK   \n13315  Built-up  Ready To Move                Whitefield  5 Bedroom   \n13316     Super  Ready To Move             Richards Town      4 BHK   \n13317  Built-up  Ready To Move     Raja Rajeshwari Nagar      2 BHK   \n13318     Super         18-Jun           Padmanabhanagar      4 BHK   \n\n      total_sqft  bath  balcony   price  \n0           1056   2.0      1.0   39.07  \n1           2600   5.0      3.0  120.00  \n2           1440   2.0      3.0   62.00  \n3           1521   3.0      1.0   95.00  \n4           1200   2.0      1.0   51.00  \n...          ...   ...      ...     ...  \n13314       1715   3.0      3.0  112.00  \n13315       3453   4.0      0.0  231.00  \n13316       3600   5.0      2.0  400.00  \n13317       1141   2.0      1.0   60.00  \n13318       4689   4.0      1.0  488.00  \n\n[12774 rows x 8 columns]",
      "text/html": "<div>\n<style scoped>\n    .dataframe tbody tr th:only-of-type {\n        vertical-align: middle;\n    }\n\n    .dataframe tbody tr th {\n        vertical-align: top;\n    }\n\n    .dataframe thead th {\n        text-align: right;\n    }\n</style>\n<table border=\"1\" class=\"dataframe\">\n  <thead>\n    <tr style=\"text-align: right;\">\n      <th></th>\n      <th>area_type</th>\n      <th>availability</th>\n      <th>location</th>\n      <th>size</th>\n      <th>total_sqft</th>\n      <th>bath</th>\n      <th>balcony</th>\n      <th>price</th>\n    </tr>\n  </thead>\n  <tbody>\n    <tr>\n      <th>0</th>\n      <td>Super</td>\n      <td>19-Dec</td>\n      <td>Electronic City Phase II</td>\n      <td>2 BHK</td>\n      <td>1056</td>\n      <td>2.0</td>\n      <td>1.0</td>\n      <td>39.07</td>\n    </tr>\n    <tr>\n      <th>1</th>\n      <td>Plot</td>\n      <td>Ready To Move</td>\n      <td>Chikka Tirupathi</td>\n      <td>4 Bedroom</td>\n      <td>2600</td>\n      <td>5.0</td>\n      <td>3.0</td>\n      <td>120.00</td>\n    </tr>\n    <tr>\n      <th>2</th>\n      <td>Built-up</td>\n      <td>Ready To Move</td>\n      <td>Uttarahalli</td>\n      <td>3 BHK</td>\n      <td>1440</td>\n      <td>2.0</td>\n      <td>3.0</td>\n      <td>62.00</td>\n    </tr>\n    <tr>\n      <th>3</th>\n      <td>Super</td>\n      <td>Ready To Move</td>\n      <td>Lingadheeranahalli</td>\n      <td>3 BHK</td>\n      <td>1521</td>\n      <td>3.0</td>\n      <td>1.0</td>\n      <td>95.00</td>\n    </tr>\n    <tr>\n      <th>4</th>\n      <td>Super</td>\n      <td>Ready To Move</td>\n      <td>Kothanur</td>\n      <td>2 BHK</td>\n      <td>1200</td>\n      <td>2.0</td>\n      <td>1.0</td>\n      <td>51.00</td>\n    </tr>\n    <tr>\n      <th>...</th>\n      <td>...</td>\n      <td>...</td>\n      <td>...</td>\n      <td>...</td>\n      <td>...</td>\n      <td>...</td>\n      <td>...</td>\n      <td>...</td>\n    </tr>\n    <tr>\n      <th>13314</th>\n      <td>Super</td>\n      <td>Ready To Move</td>\n      <td>Green Glen Layout</td>\n      <td>3 BHK</td>\n      <td>1715</td>\n      <td>3.0</td>\n      <td>3.0</td>\n      <td>112.00</td>\n    </tr>\n    <tr>\n      <th>13315</th>\n      <td>Built-up</td>\n      <td>Ready To Move</td>\n      <td>Whitefield</td>\n      <td>5 Bedroom</td>\n      <td>3453</td>\n      <td>4.0</td>\n      <td>0.0</td>\n      <td>231.00</td>\n    </tr>\n    <tr>\n      <th>13316</th>\n      <td>Super</td>\n      <td>Ready To Move</td>\n      <td>Richards Town</td>\n      <td>4 BHK</td>\n      <td>3600</td>\n      <td>5.0</td>\n      <td>2.0</td>\n      <td>400.00</td>\n    </tr>\n    <tr>\n      <th>13317</th>\n      <td>Built-up</td>\n      <td>Ready To Move</td>\n      <td>Raja Rajeshwari Nagar</td>\n      <td>2 BHK</td>\n      <td>1141</td>\n      <td>2.0</td>\n      <td>1.0</td>\n      <td>60.00</td>\n    </tr>\n    <tr>\n      <th>13318</th>\n      <td>Super</td>\n      <td>18-Jun</td>\n      <td>Padmanabhanagar</td>\n      <td>4 BHK</td>\n      <td>4689</td>\n      <td>4.0</td>\n      <td>1.0</td>\n      <td>488.00</td>\n    </tr>\n  </tbody>\n</table>\n<p>12774 rows × 8 columns</p>\n</div>"
     },
     "execution_count": 22,
     "metadata": {},
     "output_type": "execute_result"
    }
   ],
   "source": [
    "df"
   ],
   "metadata": {
    "collapsed": false,
    "ExecuteTime": {
     "end_time": "2023-08-26T04:22:18.891532Z",
     "start_time": "2023-08-26T04:22:18.790799900Z"
    }
   }
  },
  {
   "cell_type": "code",
   "execution_count": 23,
   "outputs": [
    {
     "data": {
      "text/plain": "<Axes: xlabel='area_type', ylabel='price'>"
     },
     "execution_count": 23,
     "metadata": {},
     "output_type": "execute_result"
    },
    {
     "data": {
      "text/plain": "<Figure size 640x480 with 1 Axes>",
      "image/png": "[encoded data removed]"
     },
     "metadata": {},
     "output_type": "display_data"
    }
   ],
   "source": [
    "sns.barplot(x=df['area_type'],y=df['price'])"
   ],
   "metadata": {
    "collapsed": false,
    "ExecuteTime": {
     "end_time": "2023-08-26T04:22:19.243338200Z",
     "start_time": "2023-08-26T04:22:18.824709800Z"
    }
   }
  },
  {
   "cell_type": "markdown",
   "source": [
    "### Availability"
   ],
   "metadata": {
    "collapsed": false
   }
  },
  {
   "cell_type": "code",
   "execution_count": 24,
   "outputs": [
    {
     "data": {
      "text/plain": "availability\nReady To Move    10171\n18-May             292\n18-Dec             284\n18-Apr             269\n18-Aug             187\n                 ...  \n15-Aug               1\n17-Jan               1\n16-Nov               1\n16-Jan               1\n14-Jul               1\nName: count, Length: 80, dtype: int64"
     },
     "execution_count": 24,
     "metadata": {},
     "output_type": "execute_result"
    }
   ],
   "source": [
    "df['availability'].value_counts()"
   ],
   "metadata": {
    "collapsed": false,
    "ExecuteTime": {
     "end_time": "2023-08-26T04:22:19.332101200Z",
     "start_time": "2023-08-26T04:22:19.244336800Z"
    }
   }
  },
  {
   "cell_type": "code",
   "execution_count": 25,
   "outputs": [
    {
     "data": {
      "text/plain": "<Axes: xlabel='availability', ylabel='price'>"
     },
     "execution_count": 25,
     "metadata": {},
     "output_type": "execute_result"
    },
    {
     "data": {
      "text/plain": "<Figure size 640x480 with 1 Axes>",
      "image/png": "[encoded data removed]"
     },
     "metadata": {},
     "output_type": "display_data"
    }
   ],
   "source": [
    "sns.barplot(x = df['availability'],y=df['price'])"
   ],
   "metadata": {
    "collapsed": false,
    "ExecuteTime": {
     "end_time": "2023-08-26T04:22:21.828171Z",
     "start_time": "2023-08-26T04:22:19.269269700Z"
    }
   }
  },
  {
   "cell_type": "code",
   "execution_count": 26,
   "outputs": [],
   "source": [
    "df.drop(columns=['availability'],inplace=True)"
   ],
   "metadata": {
    "collapsed": false,
    "ExecuteTime": {
     "end_time": "2023-08-26T04:22:21.829166600Z",
     "start_time": "2023-08-26T04:22:21.827167700Z"
    }
   }
  },
  {
   "cell_type": "code",
   "execution_count": 27,
   "outputs": [
    {
     "data": {
      "text/plain": "      area_type                  location       size total_sqft  bath  \\\n0         Super  Electronic City Phase II      2 BHK       1056   2.0   \n1          Plot          Chikka Tirupathi  4 Bedroom       2600   5.0   \n2      Built-up               Uttarahalli      3 BHK       1440   2.0   \n3         Super        Lingadheeranahalli      3 BHK       1521   3.0   \n4         Super                  Kothanur      2 BHK       1200   2.0   \n...         ...                       ...        ...        ...   ...   \n13314     Super         Green Glen Layout      3 BHK       1715   3.0   \n13315  Built-up                Whitefield  5 Bedroom       3453   4.0   \n13316     Super             Richards Town      4 BHK       3600   5.0   \n13317  Built-up     Raja Rajeshwari Nagar      2 BHK       1141   2.0   \n13318     Super           Padmanabhanagar      4 BHK       4689   4.0   \n\n       balcony   price  \n0          1.0   39.07  \n1          3.0  120.00  \n2          3.0   62.00  \n3          1.0   95.00  \n4          1.0   51.00  \n...        ...     ...  \n13314      3.0  112.00  \n13315      0.0  231.00  \n13316      2.0  400.00  \n13317      1.0   60.00  \n13318      1.0  488.00  \n\n[12774 rows x 7 columns]",
      "text/html": "<div>\n<style scoped>\n    .dataframe tbody tr th:only-of-type {\n        vertical-align: middle;\n    }\n\n    .dataframe tbody tr th {\n        vertical-align: top;\n    }\n\n    .dataframe thead th {\n        text-align: right;\n    }\n</style>\n<table border=\"1\" class=\"dataframe\">\n  <thead>\n    <tr style=\"text-align: right;\">\n      <th></th>\n      <th>area_type</th>\n      <th>location</th>\n      <th>size</th>\n      <th>total_sqft</th>\n      <th>bath</th>\n      <th>balcony</th>\n      <th>price</th>\n    </tr>\n  </thead>\n  <tbody>\n    <tr>\n      <th>0</th>\n      <td>Super</td>\n      <td>Electronic City Phase II</td>\n      <td>2 BHK</td>\n      <td>1056</td>\n      <td>2.0</td>\n      <td>1.0</td>\n      <td>39.07</td>\n    </tr>\n    <tr>\n      <th>1</th>\n      <td>Plot</td>\n      <td>Chikka Tirupathi</td>\n      <td>4 Bedroom</td>\n      <td>2600</td>\n      <td>5.0</td>\n      <td>3.0</td>\n      <td>120.00</td>\n    </tr>\n    <tr>\n      <th>2</th>\n      <td>Built-up</td>\n      <td>Uttarahalli</td>\n      <td>3 BHK</td>\n      <td>1440</td>\n      <td>2.0</td>\n      <td>3.0</td>\n      <td>62.00</td>\n    </tr>\n    <tr>\n      <th>3</th>\n      <td>Super</td>\n      <td>Lingadheeranahalli</td>\n      <td>3 BHK</td>\n      <td>1521</td>\n      <td>3.0</td>\n      <td>1.0</td>\n      <td>95.00</td>\n    </tr>\n    <tr>\n      <th>4</th>\n      <td>Super</td>\n      <td>Kothanur</td>\n      <td>2 BHK</td>\n      <td>1200</td>\n      <td>2.0</td>\n      <td>1.0</td>\n      <td>51.00</td>\n    </tr>\n    <tr>\n      <th>...</th>\n      <td>...</td>\n      <td>...</td>\n      <td>...</td>\n      <td>...</td>\n      <td>...</td>\n      <td>...</td>\n      <td>...</td>\n    </tr>\n    <tr>\n      <th>13314</th>\n      <td>Super</td>\n      <td>Green Glen Layout</td>\n      <td>3 BHK</td>\n      <td>1715</td>\n      <td>3.0</td>\n      <td>3.0</td>\n      <td>112.00</td>\n    </tr>\n    <tr>\n      <th>13315</th>\n      <td>Built-up</td>\n      <td>Whitefield</td>\n      <td>5 Bedroom</td>\n      <td>3453</td>\n      <td>4.0</td>\n      <td>0.0</td>\n      <td>231.00</td>\n    </tr>\n    <tr>\n      <th>13316</th>\n      <td>Super</td>\n      <td>Richards Town</td>\n      <td>4 BHK</td>\n      <td>3600</td>\n      <td>5.0</td>\n      <td>2.0</td>\n      <td>400.00</td>\n    </tr>\n    <tr>\n      <th>13317</th>\n      <td>Built-up</td>\n      <td>Raja Rajeshwari Nagar</td>\n      <td>2 BHK</td>\n      <td>1141</td>\n      <td>2.0</td>\n      <td>1.0</td>\n      <td>60.00</td>\n    </tr>\n    <tr>\n      <th>13318</th>\n      <td>Super</td>\n      <td>Padmanabhanagar</td>\n      <td>4 BHK</td>\n      <td>4689</td>\n      <td>4.0</td>\n      <td>1.0</td>\n      <td>488.00</td>\n    </tr>\n  </tbody>\n</table>\n<p>12774 rows × 7 columns</p>\n</div>"
     },
     "execution_count": 27,
     "metadata": {},
     "output_type": "execute_result"
    }
   ],
   "source": [
    "df"
   ],
   "metadata": {
    "collapsed": false,
    "ExecuteTime": {
     "end_time": "2023-08-26T04:22:21.844125700Z",
     "start_time": "2023-08-26T04:22:21.831161700Z"
    }
   }
  },
  {
   "cell_type": "markdown",
   "source": [
    "### Location"
   ],
   "metadata": {
    "collapsed": false
   }
  },
  {
   "cell_type": "code",
   "execution_count": 28,
   "outputs": [
    {
     "data": {
      "text/plain": "array(['Electronic City Phase II', 'Chikka Tirupathi', 'Uttarahalli', ...,\n       '12th cross srinivas nagar banshankari 3rd stage',\n       'Havanur extension', 'Abshot Layout'], dtype=object)"
     },
     "execution_count": 28,
     "metadata": {},
     "output_type": "execute_result"
    }
   ],
   "source": [
    "df['location'].unique()"
   ],
   "metadata": {
    "collapsed": false,
    "ExecuteTime": {
     "end_time": "2023-08-26T04:22:21.905994300Z",
     "start_time": "2023-08-26T04:22:21.846120600Z"
    }
   }
  },
  {
   "cell_type": "code",
   "execution_count": 29,
   "outputs": [
    {
     "data": {
      "text/plain": "<Axes: xlabel='location', ylabel='price'>"
     },
     "execution_count": 29,
     "metadata": {},
     "output_type": "execute_result"
    },
    {
     "data": {
      "text/plain": "<Figure size 640x480 with 1 Axes>",
      "image/png": "[encoded data removed]"
     },
     "metadata": {},
     "output_type": "display_data"
    }
   ],
   "source": [
    "sns.barplot(x=df['location'],y=df['price'])"
   ],
   "metadata": {
    "collapsed": false,
    "ExecuteTime": {
     "end_time": "2023-08-26T04:22:53.098102500Z",
     "start_time": "2023-08-26T04:22:21.861081700Z"
    }
   }
  },
  {
   "cell_type": "markdown",
   "source": [
    "### Size"
   ],
   "metadata": {
    "collapsed": false
   }
  },
  {
   "cell_type": "code",
   "execution_count": 30,
   "outputs": [
    {
     "data": {
      "text/plain": "size\n2 BHK         4931\n3 BHK         4119\n4 Bedroom      824\n4 BHK          574\n3 Bedroom      535\n1 BHK          521\n2 Bedroom      314\n5 Bedroom      291\n6 Bedroom      191\n1 Bedroom      104\n8 Bedroom       84\n7 Bedroom       82\n5 BHK           59\n9 Bedroom       46\n6 BHK           30\n7 BHK           17\n1 RK            13\n10 Bedroom      12\n9 BHK            8\n8 BHK            5\n11 BHK           2\n11 Bedroom       2\n10 BHK           2\n14 BHK           1\n13 BHK           1\n12 Bedroom       1\n27 BHK           1\n43 Bedroom       1\n16 BHK           1\n19 BHK           1\n18 Bedroom       1\nName: count, dtype: int64"
     },
     "execution_count": 30,
     "metadata": {},
     "output_type": "execute_result"
    }
   ],
   "source": [
    "df['size'].value_counts()"
   ],
   "metadata": {
    "collapsed": false,
    "ExecuteTime": {
     "end_time": "2023-08-26T04:22:53.164406900Z",
     "start_time": "2023-08-26T04:22:53.100097900Z"
    }
   }
  },
  {
   "cell_type": "code",
   "execution_count": 31,
   "outputs": [
    {
     "data": {
      "text/plain": "0            2 BHK\n1        4 Bedroom\n2            3 BHK\n3            3 BHK\n4            2 BHK\n           ...    \n13314        3 BHK\n13315    5 Bedroom\n13316        4 BHK\n13317        2 BHK\n13318        4 BHK\nName: size, Length: 12774, dtype: object"
     },
     "execution_count": 31,
     "metadata": {},
     "output_type": "execute_result"
    }
   ],
   "source": [
    "df['size'].astype(str)"
   ],
   "metadata": {
    "collapsed": false,
    "ExecuteTime": {
     "end_time": "2023-08-26T04:22:53.165404200Z",
     "start_time": "2023-08-26T04:22:53.114867900Z"
    }
   }
  },
  {
   "cell_type": "code",
   "execution_count": 32,
   "outputs": [
    {
     "name": "stdout",
     "output_type": "stream",
     "text": [
      "<class 'pandas.core.frame.DataFrame'>\n",
      "Index: 12774 entries, 0 to 13318\n",
      "Data columns (total 7 columns):\n",
      " #   Column      Non-Null Count  Dtype  \n",
      "---  ------      --------------  -----  \n",
      " 0   area_type   12774 non-null  object \n",
      " 1   location    12774 non-null  object \n",
      " 2   size        12774 non-null  object \n",
      " 3   total_sqft  12774 non-null  object \n",
      " 4   bath        12774 non-null  float64\n",
      " 5   balcony     12774 non-null  float64\n",
      " 6   price       12774 non-null  float64\n",
      "dtypes: float64(3), object(4)\n",
      "memory usage: 798.4+ KB\n"
     ]
    }
   ],
   "source": [
    "df.info()"
   ],
   "metadata": {
    "collapsed": false,
    "ExecuteTime": {
     "end_time": "2023-08-26T04:22:53.173652900Z",
     "start_time": "2023-08-26T04:22:53.161415100Z"
    }
   }
  },
  {
   "cell_type": "code",
   "execution_count": 33,
   "outputs": [],
   "source": [
    "n1 = df['size'].str.split(n=1,expand=True)"
   ],
   "metadata": {
    "collapsed": false,
    "ExecuteTime": {
     "end_time": "2023-08-26T04:22:53.199105700Z",
     "start_time": "2023-08-26T04:22:53.174650800Z"
    }
   }
  },
  {
   "cell_type": "code",
   "execution_count": 34,
   "outputs": [],
   "source": [
    "df['new'] = n1[0]"
   ],
   "metadata": {
    "collapsed": false,
    "ExecuteTime": {
     "end_time": "2023-08-26T04:22:53.204805300Z",
     "start_time": "2023-08-26T04:22:53.190209800Z"
    }
   }
  },
  {
   "cell_type": "code",
   "execution_count": 35,
   "outputs": [],
   "source": [
    "df['new'] = df['new'].astype(float)"
   ],
   "metadata": {
    "collapsed": false,
    "ExecuteTime": {
     "end_time": "2023-08-26T04:22:53.219766Z",
     "start_time": "2023-08-26T04:22:53.205803200Z"
    }
   }
  },
  {
   "cell_type": "code",
   "execution_count": 36,
   "outputs": [
    {
     "name": "stdout",
     "output_type": "stream",
     "text": [
      "<class 'pandas.core.frame.DataFrame'>\n",
      "Index: 12774 entries, 0 to 13318\n",
      "Data columns (total 8 columns):\n",
      " #   Column      Non-Null Count  Dtype  \n",
      "---  ------      --------------  -----  \n",
      " 0   area_type   12774 non-null  object \n",
      " 1   location    12774 non-null  object \n",
      " 2   size        12774 non-null  object \n",
      " 3   total_sqft  12774 non-null  object \n",
      " 4   bath        12774 non-null  float64\n",
      " 5   balcony     12774 non-null  float64\n",
      " 6   price       12774 non-null  float64\n",
      " 7   new         12774 non-null  float64\n",
      "dtypes: float64(4), object(4)\n",
      "memory usage: 898.2+ KB\n"
     ]
    },
    {
     "data": {
      "text/plain": "12774"
     },
     "execution_count": 36,
     "metadata": {},
     "output_type": "execute_result"
    }
   ],
   "source": [
    "df.info()\n",
    "len(df)"
   ],
   "metadata": {
    "collapsed": false,
    "ExecuteTime": {
     "end_time": "2023-08-26T04:22:53.247499400Z",
     "start_time": "2023-08-26T04:22:53.221760900Z"
    }
   }
  },
  {
   "cell_type": "code",
   "execution_count": 37,
   "outputs": [],
   "source": [
    "df = df[df['new']<10]"
   ],
   "metadata": {
    "collapsed": false,
    "ExecuteTime": {
     "end_time": "2023-08-26T04:22:53.252451600Z",
     "start_time": "2023-08-26T04:22:53.237493Z"
    }
   }
  },
  {
   "cell_type": "code",
   "execution_count": 38,
   "outputs": [
    {
     "data": {
      "text/plain": "12748"
     },
     "execution_count": 38,
     "metadata": {},
     "output_type": "execute_result"
    }
   ],
   "source": [
    "len(df)"
   ],
   "metadata": {
    "collapsed": false,
    "ExecuteTime": {
     "end_time": "2023-08-26T04:22:53.267243400Z",
     "start_time": "2023-08-26T04:22:53.252451600Z"
    }
   }
  },
  {
   "cell_type": "code",
   "execution_count": 39,
   "outputs": [
    {
     "data": {
      "text/plain": "array(['2 BHK', '4 Bedroom', '3 BHK', '4 BHK', '6 Bedroom', '3 Bedroom',\n       '1 BHK', '1 RK', '1 Bedroom', '8 Bedroom', '2 Bedroom',\n       '7 Bedroom', '5 BHK', '7 BHK', '6 BHK', '5 Bedroom', '9 BHK',\n       '9 Bedroom', '8 BHK'], dtype=object)"
     },
     "execution_count": 39,
     "metadata": {},
     "output_type": "execute_result"
    }
   ],
   "source": [
    "df['size'].unique()"
   ],
   "metadata": {
    "collapsed": false,
    "ExecuteTime": {
     "end_time": "2023-08-26T04:22:53.292827200Z",
     "start_time": "2023-08-26T04:22:53.268212700Z"
    }
   }
  },
  {
   "cell_type": "code",
   "execution_count": 40,
   "outputs": [
    {
     "name": "stderr",
     "output_type": "stream",
     "text": [
      "C:\\Users\\TUSHAR GANDHI\\AppData\\Local\\Temp\\ipykernel_19664\\1376375442.py:1: SettingWithCopyWarning: \n",
      "A value is trying to be set on a copy of a slice from a DataFrame\n",
      "\n",
      "See the caveats in the documentation: https://pandas.pydata.org/pandas-docs/stable/user_guide/indexing.html#returning-a-view-versus-a-copy\n",
      "  df.drop(columns=['new'],inplace = True)\n"
     ]
    }
   ],
   "source": [
    "df.drop(columns=['new'],inplace = True)"
   ],
   "metadata": {
    "collapsed": false,
    "ExecuteTime": {
     "end_time": "2023-08-26T04:22:53.299931900Z",
     "start_time": "2023-08-26T04:22:53.284847200Z"
    }
   }
  },
  {
   "cell_type": "markdown",
   "source": [
    "### Square Ft"
   ],
   "metadata": {
    "collapsed": false
   }
  },
  {
   "cell_type": "code",
   "execution_count": 41,
   "outputs": [
    {
     "data": {
      "text/plain": "      area_type                  location       size total_sqft  bath  \\\n0         Super  Electronic City Phase II      2 BHK       1056   2.0   \n1          Plot          Chikka Tirupathi  4 Bedroom       2600   5.0   \n2      Built-up               Uttarahalli      3 BHK       1440   2.0   \n3         Super        Lingadheeranahalli      3 BHK       1521   3.0   \n4         Super                  Kothanur      2 BHK       1200   2.0   \n...         ...                       ...        ...        ...   ...   \n13314     Super         Green Glen Layout      3 BHK       1715   3.0   \n13315  Built-up                Whitefield  5 Bedroom       3453   4.0   \n13316     Super             Richards Town      4 BHK       3600   5.0   \n13317  Built-up     Raja Rajeshwari Nagar      2 BHK       1141   2.0   \n13318     Super           Padmanabhanagar      4 BHK       4689   4.0   \n\n       balcony   price  \n0          1.0   39.07  \n1          3.0  120.00  \n2          3.0   62.00  \n3          1.0   95.00  \n4          1.0   51.00  \n...        ...     ...  \n13314      3.0  112.00  \n13315      0.0  231.00  \n13316      2.0  400.00  \n13317      1.0   60.00  \n13318      1.0  488.00  \n\n[12748 rows x 7 columns]",
      "text/html": "<div>\n<style scoped>\n    .dataframe tbody tr th:only-of-type {\n        vertical-align: middle;\n    }\n\n    .dataframe tbody tr th {\n        vertical-align: top;\n    }\n\n    .dataframe thead th {\n        text-align: right;\n    }\n</style>\n<table border=\"1\" class=\"dataframe\">\n  <thead>\n    <tr style=\"text-align: right;\">\n      <th></th>\n      <th>area_type</th>\n      <th>location</th>\n      <th>size</th>\n      <th>total_sqft</th>\n      <th>bath</th>\n      <th>balcony</th>\n      <th>price</th>\n    </tr>\n  </thead>\n  <tbody>\n    <tr>\n      <th>0</th>\n      <td>Super</td>\n      <td>Electronic City Phase II</td>\n      <td>2 BHK</td>\n      <td>1056</td>\n      <td>2.0</td>\n      <td>1.0</td>\n      <td>39.07</td>\n    </tr>\n    <tr>\n      <th>1</th>\n      <td>Plot</td>\n      <td>Chikka Tirupathi</td>\n      <td>4 Bedroom</td>\n      <td>2600</td>\n      <td>5.0</td>\n      <td>3.0</td>\n      <td>120.00</td>\n    </tr>\n    <tr>\n      <th>2</th>\n      <td>Built-up</td>\n      <td>Uttarahalli</td>\n      <td>3 BHK</td>\n      <td>1440</td>\n      <td>2.0</td>\n      <td>3.0</td>\n      <td>62.00</td>\n    </tr>\n    <tr>\n      <th>3</th>\n      <td>Super</td>\n      <td>Lingadheeranahalli</td>\n      <td>3 BHK</td>\n      <td>1521</td>\n      <td>3.0</td>\n      <td>1.0</td>\n      <td>95.00</td>\n    </tr>\n    <tr>\n      <th>4</th>\n      <td>Super</td>\n      <td>Kothanur</td>\n      <td>2 BHK</td>\n      <td>1200</td>\n      <td>2.0</td>\n      <td>1.0</td>\n      <td>51.00</td>\n    </tr>\n    <tr>\n      <th>...</th>\n      <td>...</td>\n      <td>...</td>\n      <td>...</td>\n      <td>...</td>\n      <td>...</td>\n      <td>...</td>\n      <td>...</td>\n    </tr>\n    <tr>\n      <th>13314</th>\n      <td>Super</td>\n      <td>Green Glen Layout</td>\n      <td>3 BHK</td>\n      <td>1715</td>\n      <td>3.0</td>\n      <td>3.0</td>\n      <td>112.00</td>\n    </tr>\n    <tr>\n      <th>13315</th>\n      <td>Built-up</td>\n      <td>Whitefield</td>\n      <td>5 Bedroom</td>\n      <td>3453</td>\n      <td>4.0</td>\n      <td>0.0</td>\n      <td>231.00</td>\n    </tr>\n    <tr>\n      <th>13316</th>\n      <td>Super</td>\n      <td>Richards Town</td>\n      <td>4 BHK</td>\n      <td>3600</td>\n      <td>5.0</td>\n      <td>2.0</td>\n      <td>400.00</td>\n    </tr>\n    <tr>\n      <th>13317</th>\n      <td>Built-up</td>\n      <td>Raja Rajeshwari Nagar</td>\n      <td>2 BHK</td>\n      <td>1141</td>\n      <td>2.0</td>\n      <td>1.0</td>\n      <td>60.00</td>\n    </tr>\n    <tr>\n      <th>13318</th>\n      <td>Super</td>\n      <td>Padmanabhanagar</td>\n      <td>4 BHK</td>\n      <td>4689</td>\n      <td>4.0</td>\n      <td>1.0</td>\n      <td>488.00</td>\n    </tr>\n  </tbody>\n</table>\n<p>12748 rows × 7 columns</p>\n</div>"
     },
     "execution_count": 41,
     "metadata": {},
     "output_type": "execute_result"
    }
   ],
   "source": [
    "df"
   ],
   "metadata": {
    "collapsed": false,
    "ExecuteTime": {
     "end_time": "2023-08-26T04:22:53.324566300Z",
     "start_time": "2023-08-26T04:22:53.300903500Z"
    }
   }
  },
  {
   "cell_type": "code",
   "execution_count": 42,
   "outputs": [
    {
     "data": {
      "text/plain": "array(['1056', '2600', '1440', ..., '1133 - 1384', '774', '4689'],\n      dtype=object)"
     },
     "execution_count": 42,
     "metadata": {},
     "output_type": "execute_result"
    }
   ],
   "source": [
    "df['total_sqft'].unique()"
   ],
   "metadata": {
    "collapsed": false,
    "ExecuteTime": {
     "end_time": "2023-08-26T04:22:53.456577300Z",
     "start_time": "2023-08-26T04:22:53.316588200Z"
    }
   }
  },
  {
   "cell_type": "code",
   "execution_count": 43,
   "outputs": [],
   "source": [
    "df = df[df['total_sqft'].str.isnumeric()]"
   ],
   "metadata": {
    "collapsed": false,
    "ExecuteTime": {
     "end_time": "2023-08-26T04:22:53.523395200Z",
     "start_time": "2023-08-26T04:22:53.331548400Z"
    }
   }
  },
  {
   "cell_type": "code",
   "execution_count": 44,
   "outputs": [
    {
     "name": "stderr",
     "output_type": "stream",
     "text": [
      "C:\\Users\\TUSHAR GANDHI\\AppData\\Local\\Temp\\ipykernel_19664\\658097423.py:1: SettingWithCopyWarning: \n",
      "A value is trying to be set on a copy of a slice from a DataFrame.\n",
      "Try using .loc[row_indexer,col_indexer] = value instead\n",
      "\n",
      "See the caveats in the documentation: https://pandas.pydata.org/pandas-docs/stable/user_guide/indexing.html#returning-a-view-versus-a-copy\n",
      "  df['total_sqft'] = df['total_sqft'].astype(float)\n"
     ]
    }
   ],
   "source": [
    "df['total_sqft'] = df['total_sqft'].astype(float)"
   ],
   "metadata": {
    "collapsed": false,
    "ExecuteTime": {
     "end_time": "2023-08-26T04:22:53.531375600Z",
     "start_time": "2023-08-26T04:22:53.410721200Z"
    }
   }
  },
  {
   "cell_type": "code",
   "execution_count": 45,
   "outputs": [
    {
     "data": {
      "text/plain": "12424"
     },
     "execution_count": 45,
     "metadata": {},
     "output_type": "execute_result"
    }
   ],
   "source": [
    "len(df)"
   ],
   "metadata": {
    "collapsed": false,
    "ExecuteTime": {
     "end_time": "2023-08-26T04:22:53.532373100Z",
     "start_time": "2023-08-26T04:22:53.453581800Z"
    }
   }
  },
  {
   "cell_type": "code",
   "execution_count": 46,
   "outputs": [
    {
     "data": {
      "text/plain": "total_sqft\n1200.0    800\n1100.0    210\n1500.0    201\n2400.0    194\n600.0     178\n         ... \n1793.0      1\n1551.0      1\n3563.0      1\n462.0       1\n4689.0      1\nName: count, Length: 1816, dtype: int64"
     },
     "execution_count": 46,
     "metadata": {},
     "output_type": "execute_result"
    }
   ],
   "source": [
    "df['total_sqft'].value_counts()"
   ],
   "metadata": {
    "collapsed": false,
    "ExecuteTime": {
     "end_time": "2023-08-26T04:22:53.532373100Z",
     "start_time": "2023-08-26T04:22:53.454580Z"
    }
   }
  },
  {
   "cell_type": "code",
   "execution_count": 47,
   "outputs": [
    {
     "name": "stdout",
     "output_type": "stream",
     "text": [
      "<class 'pandas.core.frame.DataFrame'>\n",
      "Index: 12424 entries, 0 to 13318\n",
      "Data columns (total 7 columns):\n",
      " #   Column      Non-Null Count  Dtype  \n",
      "---  ------      --------------  -----  \n",
      " 0   area_type   12424 non-null  object \n",
      " 1   location    12424 non-null  object \n",
      " 2   size        12424 non-null  object \n",
      " 3   total_sqft  12424 non-null  float64\n",
      " 4   bath        12424 non-null  float64\n",
      " 5   balcony     12424 non-null  float64\n",
      " 6   price       12424 non-null  float64\n",
      "dtypes: float64(4), object(3)\n",
      "memory usage: 776.5+ KB\n"
     ]
    }
   ],
   "source": [
    "df.info()"
   ],
   "metadata": {
    "collapsed": false,
    "ExecuteTime": {
     "end_time": "2023-08-26T04:22:53.532373100Z",
     "start_time": "2023-08-26T04:22:53.455578Z"
    }
   }
  },
  {
   "cell_type": "code",
   "execution_count": 48,
   "outputs": [],
   "source": [
    "df = df[df['total_sqft'] > 300]"
   ],
   "metadata": {
    "collapsed": false,
    "ExecuteTime": {
     "end_time": "2023-08-26T04:22:53.533369500Z",
     "start_time": "2023-08-26T04:22:53.455578Z"
    }
   }
  },
  {
   "cell_type": "code",
   "execution_count": 49,
   "outputs": [
    {
     "data": {
      "text/plain": "12412"
     },
     "execution_count": 49,
     "metadata": {},
     "output_type": "execute_result"
    }
   ],
   "source": [
    "len(df)"
   ],
   "metadata": {
    "collapsed": false,
    "ExecuteTime": {
     "end_time": "2023-08-26T04:22:53.533369500Z",
     "start_time": "2023-08-26T04:22:53.455578Z"
    }
   }
  },
  {
   "cell_type": "markdown",
   "source": [
    "### Bath"
   ],
   "metadata": {
    "collapsed": false
   }
  },
  {
   "cell_type": "code",
   "execution_count": 50,
   "outputs": [
    {
     "data": {
      "text/plain": "      area_type                  location       size  total_sqft  bath  \\\n0         Super  Electronic City Phase II      2 BHK      1056.0   2.0   \n1          Plot          Chikka Tirupathi  4 Bedroom      2600.0   5.0   \n2      Built-up               Uttarahalli      3 BHK      1440.0   2.0   \n3         Super        Lingadheeranahalli      3 BHK      1521.0   3.0   \n4         Super                  Kothanur      2 BHK      1200.0   2.0   \n...         ...                       ...        ...         ...   ...   \n13314     Super         Green Glen Layout      3 BHK      1715.0   3.0   \n13315  Built-up                Whitefield  5 Bedroom      3453.0   4.0   \n13316     Super             Richards Town      4 BHK      3600.0   5.0   \n13317  Built-up     Raja Rajeshwari Nagar      2 BHK      1141.0   2.0   \n13318     Super           Padmanabhanagar      4 BHK      4689.0   4.0   \n\n       balcony   price  \n0          1.0   39.07  \n1          3.0  120.00  \n2          3.0   62.00  \n3          1.0   95.00  \n4          1.0   51.00  \n...        ...     ...  \n13314      3.0  112.00  \n13315      0.0  231.00  \n13316      2.0  400.00  \n13317      1.0   60.00  \n13318      1.0  488.00  \n\n[12412 rows x 7 columns]",
      "text/html": "<div>\n<style scoped>\n    .dataframe tbody tr th:only-of-type {\n        vertical-align: middle;\n    }\n\n    .dataframe tbody tr th {\n        vertical-align: top;\n    }\n\n    .dataframe thead th {\n        text-align: right;\n    }\n</style>\n<table border=\"1\" class=\"dataframe\">\n  <thead>\n    <tr style=\"text-align: right;\">\n      <th></th>\n      <th>area_type</th>\n      <th>location</th>\n      <th>size</th>\n      <th>total_sqft</th>\n      <th>bath</th>\n      <th>balcony</th>\n      <th>price</th>\n    </tr>\n  </thead>\n  <tbody>\n    <tr>\n      <th>0</th>\n      <td>Super</td>\n      <td>Electronic City Phase II</td>\n      <td>2 BHK</td>\n      <td>1056.0</td>\n      <td>2.0</td>\n      <td>1.0</td>\n      <td>39.07</td>\n    </tr>\n    <tr>\n      <th>1</th>\n      <td>Plot</td>\n      <td>Chikka Tirupathi</td>\n      <td>4 Bedroom</td>\n      <td>2600.0</td>\n      <td>5.0</td>\n      <td>3.0</td>\n      <td>120.00</td>\n    </tr>\n    <tr>\n      <th>2</th>\n      <td>Built-up</td>\n      <td>Uttarahalli</td>\n      <td>3 BHK</td>\n      <td>1440.0</td>\n      <td>2.0</td>\n      <td>3.0</td>\n      <td>62.00</td>\n    </tr>\n    <tr>\n      <th>3</th>\n      <td>Super</td>\n      <td>Lingadheeranahalli</td>\n      <td>3 BHK</td>\n      <td>1521.0</td>\n      <td>3.0</td>\n      <td>1.0</td>\n      <td>95.00</td>\n    </tr>\n    <tr>\n      <th>4</th>\n      <td>Super</td>\n      <td>Kothanur</td>\n      <td>2 BHK</td>\n      <td>1200.0</td>\n      <td>2.0</td>\n      <td>1.0</td>\n      <td>51.00</td>\n    </tr>\n    <tr>\n      <th>...</th>\n      <td>...</td>\n      <td>...</td>\n      <td>...</td>\n      <td>...</td>\n      <td>...</td>\n      <td>...</td>\n      <td>...</td>\n    </tr>\n    <tr>\n      <th>13314</th>\n      <td>Super</td>\n      <td>Green Glen Layout</td>\n      <td>3 BHK</td>\n      <td>1715.0</td>\n      <td>3.0</td>\n      <td>3.0</td>\n      <td>112.00</td>\n    </tr>\n    <tr>\n      <th>13315</th>\n      <td>Built-up</td>\n      <td>Whitefield</td>\n      <td>5 Bedroom</td>\n      <td>3453.0</td>\n      <td>4.0</td>\n      <td>0.0</td>\n      <td>231.00</td>\n    </tr>\n    <tr>\n      <th>13316</th>\n      <td>Super</td>\n      <td>Richards Town</td>\n      <td>4 BHK</td>\n      <td>3600.0</td>\n      <td>5.0</td>\n      <td>2.0</td>\n      <td>400.00</td>\n    </tr>\n    <tr>\n      <th>13317</th>\n      <td>Built-up</td>\n      <td>Raja Rajeshwari Nagar</td>\n      <td>2 BHK</td>\n      <td>1141.0</td>\n      <td>2.0</td>\n      <td>1.0</td>\n      <td>60.00</td>\n    </tr>\n    <tr>\n      <th>13318</th>\n      <td>Super</td>\n      <td>Padmanabhanagar</td>\n      <td>4 BHK</td>\n      <td>4689.0</td>\n      <td>4.0</td>\n      <td>1.0</td>\n      <td>488.00</td>\n    </tr>\n  </tbody>\n</table>\n<p>12412 rows × 7 columns</p>\n</div>"
     },
     "execution_count": 50,
     "metadata": {},
     "output_type": "execute_result"
    }
   ],
   "source": [
    "df"
   ],
   "metadata": {
    "collapsed": false,
    "ExecuteTime": {
     "end_time": "2023-08-26T04:22:53.534367100Z",
     "start_time": "2023-08-26T04:22:53.471535100Z"
    }
   }
  },
  {
   "cell_type": "code",
   "execution_count": 51,
   "outputs": [
    {
     "data": {
      "text/plain": "array([ 2.,  5.,  3.,  4.,  6.,  1.,  9.,  8.,  7., 11., 10., 14., 12.,\n       13.])"
     },
     "execution_count": 51,
     "metadata": {},
     "output_type": "execute_result"
    }
   ],
   "source": [
    "df['bath'].unique()"
   ],
   "metadata": {
    "collapsed": false,
    "ExecuteTime": {
     "end_time": "2023-08-26T04:22:53.535367400Z",
     "start_time": "2023-08-26T04:22:53.487492Z"
    }
   }
  },
  {
   "cell_type": "code",
   "execution_count": 52,
   "outputs": [
    {
     "data": {
      "text/plain": "bath\n2.0     6461\n3.0     3109\n4.0     1166\n1.0      709\n5.0      504\n6.0      251\n7.0       98\n8.0       63\n9.0       37\n10.0       7\n12.0       4\n11.0       1\n14.0       1\n13.0       1\nName: count, dtype: int64"
     },
     "execution_count": 52,
     "metadata": {},
     "output_type": "execute_result"
    }
   ],
   "source": [
    "df['bath'].value_counts()"
   ],
   "metadata": {
    "collapsed": false,
    "ExecuteTime": {
     "end_time": "2023-08-26T04:22:53.535367400Z",
     "start_time": "2023-08-26T04:22:53.501454200Z"
    }
   }
  },
  {
   "cell_type": "code",
   "execution_count": 53,
   "outputs": [],
   "source": [
    "df = df[df['bath'] <= 7]"
   ],
   "metadata": {
    "collapsed": false,
    "ExecuteTime": {
     "end_time": "2023-08-26T04:22:53.539379400Z",
     "start_time": "2023-08-26T04:22:53.518409100Z"
    }
   }
  },
  {
   "cell_type": "code",
   "execution_count": 54,
   "outputs": [
    {
     "data": {
      "text/plain": "array([2., 5., 3., 4., 6., 1., 7.])"
     },
     "execution_count": 54,
     "metadata": {},
     "output_type": "execute_result"
    }
   ],
   "source": [
    "df['bath'].unique()"
   ],
   "metadata": {
    "collapsed": false,
    "ExecuteTime": {
     "end_time": "2023-08-26T04:22:53.601187900Z",
     "start_time": "2023-08-26T04:22:53.534367100Z"
    }
   }
  },
  {
   "cell_type": "code",
   "execution_count": 55,
   "outputs": [
    {
     "data": {
      "text/plain": "      area_type                  location       size  total_sqft  bath  \\\n0         Super  Electronic City Phase II      2 BHK      1056.0   2.0   \n1          Plot          Chikka Tirupathi  4 Bedroom      2600.0   5.0   \n2      Built-up               Uttarahalli      3 BHK      1440.0   2.0   \n3         Super        Lingadheeranahalli      3 BHK      1521.0   3.0   \n4         Super                  Kothanur      2 BHK      1200.0   2.0   \n...         ...                       ...        ...         ...   ...   \n13314     Super         Green Glen Layout      3 BHK      1715.0   3.0   \n13315  Built-up                Whitefield  5 Bedroom      3453.0   4.0   \n13316     Super             Richards Town      4 BHK      3600.0   5.0   \n13317  Built-up     Raja Rajeshwari Nagar      2 BHK      1141.0   2.0   \n13318     Super           Padmanabhanagar      4 BHK      4689.0   4.0   \n\n       balcony   price  \n0          1.0   39.07  \n1          3.0  120.00  \n2          3.0   62.00  \n3          1.0   95.00  \n4          1.0   51.00  \n...        ...     ...  \n13314      3.0  112.00  \n13315      0.0  231.00  \n13316      2.0  400.00  \n13317      1.0   60.00  \n13318      1.0  488.00  \n\n[12298 rows x 7 columns]",
      "text/html": "<div>\n<style scoped>\n    .dataframe tbody tr th:only-of-type {\n        vertical-align: middle;\n    }\n\n    .dataframe tbody tr th {\n        vertical-align: top;\n    }\n\n    .dataframe thead th {\n        text-align: right;\n    }\n</style>\n<table border=\"1\" class=\"dataframe\">\n  <thead>\n    <tr style=\"text-align: right;\">\n      <th></th>\n      <th>area_type</th>\n      <th>location</th>\n      <th>size</th>\n      <th>total_sqft</th>\n      <th>bath</th>\n      <th>balcony</th>\n      <th>price</th>\n    </tr>\n  </thead>\n  <tbody>\n    <tr>\n      <th>0</th>\n      <td>Super</td>\n      <td>Electronic City Phase II</td>\n      <td>2 BHK</td>\n      <td>1056.0</td>\n      <td>2.0</td>\n      <td>1.0</td>\n      <td>39.07</td>\n    </tr>\n    <tr>\n      <th>1</th>\n      <td>Plot</td>\n      <td>Chikka Tirupathi</td>\n      <td>4 Bedroom</td>\n      <td>2600.0</td>\n      <td>5.0</td>\n      <td>3.0</td>\n      <td>120.00</td>\n    </tr>\n    <tr>\n      <th>2</th>\n      <td>Built-up</td>\n      <td>Uttarahalli</td>\n      <td>3 BHK</td>\n      <td>1440.0</td>\n      <td>2.0</td>\n      <td>3.0</td>\n      <td>62.00</td>\n    </tr>\n    <tr>\n      <th>3</th>\n      <td>Super</td>\n      <td>Lingadheeranahalli</td>\n      <td>3 BHK</td>\n      <td>1521.0</td>\n      <td>3.0</td>\n      <td>1.0</td>\n      <td>95.00</td>\n    </tr>\n    <tr>\n      <th>4</th>\n      <td>Super</td>\n      <td>Kothanur</td>\n      <td>2 BHK</td>\n      <td>1200.0</td>\n      <td>2.0</td>\n      <td>1.0</td>\n      <td>51.00</td>\n    </tr>\n    <tr>\n      <th>...</th>\n      <td>...</td>\n      <td>...</td>\n      <td>...</td>\n      <td>...</td>\n      <td>...</td>\n      <td>...</td>\n      <td>...</td>\n    </tr>\n    <tr>\n      <th>13314</th>\n      <td>Super</td>\n      <td>Green Glen Layout</td>\n      <td>3 BHK</td>\n      <td>1715.0</td>\n      <td>3.0</td>\n      <td>3.0</td>\n      <td>112.00</td>\n    </tr>\n    <tr>\n      <th>13315</th>\n      <td>Built-up</td>\n      <td>Whitefield</td>\n      <td>5 Bedroom</td>\n      <td>3453.0</td>\n      <td>4.0</td>\n      <td>0.0</td>\n      <td>231.00</td>\n    </tr>\n    <tr>\n      <th>13316</th>\n      <td>Super</td>\n      <td>Richards Town</td>\n      <td>4 BHK</td>\n      <td>3600.0</td>\n      <td>5.0</td>\n      <td>2.0</td>\n      <td>400.00</td>\n    </tr>\n    <tr>\n      <th>13317</th>\n      <td>Built-up</td>\n      <td>Raja Rajeshwari Nagar</td>\n      <td>2 BHK</td>\n      <td>1141.0</td>\n      <td>2.0</td>\n      <td>1.0</td>\n      <td>60.00</td>\n    </tr>\n    <tr>\n      <th>13318</th>\n      <td>Super</td>\n      <td>Padmanabhanagar</td>\n      <td>4 BHK</td>\n      <td>4689.0</td>\n      <td>4.0</td>\n      <td>1.0</td>\n      <td>488.00</td>\n    </tr>\n  </tbody>\n</table>\n<p>12298 rows × 7 columns</p>\n</div>"
     },
     "execution_count": 55,
     "metadata": {},
     "output_type": "execute_result"
    }
   ],
   "source": [
    "df"
   ],
   "metadata": {
    "collapsed": false,
    "ExecuteTime": {
     "end_time": "2023-08-26T04:22:53.641081100Z",
     "start_time": "2023-08-26T04:22:53.551321Z"
    }
   }
  },
  {
   "cell_type": "markdown",
   "source": [
    "### Balcony"
   ],
   "metadata": {
    "collapsed": false
   }
  },
  {
   "cell_type": "code",
   "execution_count": 56,
   "outputs": [
    {
     "data": {
      "text/plain": "array([1., 3., 2., 0.])"
     },
     "execution_count": 56,
     "metadata": {},
     "output_type": "execute_result"
    }
   ],
   "source": [
    "df['balcony'].unique()"
   ],
   "metadata": {
    "collapsed": false,
    "ExecuteTime": {
     "end_time": "2023-08-26T04:22:53.642078200Z",
     "start_time": "2023-08-26T04:22:53.581241400Z"
    }
   }
  },
  {
   "cell_type": "markdown",
   "source": [
    "### convert price doller to INR"
   ],
   "metadata": {
    "collapsed": false
   }
  },
  {
   "cell_type": "code",
   "execution_count": 57,
   "outputs": [
    {
     "name": "stderr",
     "output_type": "stream",
     "text": [
      "C:\\Users\\TUSHAR GANDHI\\AppData\\Local\\Temp\\ipykernel_19664\\1560334828.py:1: SettingWithCopyWarning: \n",
      "A value is trying to be set on a copy of a slice from a DataFrame.\n",
      "Try using .loc[row_indexer,col_indexer] = value instead\n",
      "\n",
      "See the caveats in the documentation: https://pandas.pydata.org/pandas-docs/stable/user_guide/indexing.html#returning-a-view-versus-a-copy\n",
      "  df['price'] = df['price']*82.4\n"
     ]
    }
   ],
   "source": [
    "df['price'] = df['price']*82.4"
   ],
   "metadata": {
    "collapsed": false,
    "ExecuteTime": {
     "end_time": "2023-08-26T04:22:53.643075900Z",
     "start_time": "2023-08-26T04:22:53.598195700Z"
    }
   }
  },
  {
   "cell_type": "code",
   "execution_count": 58,
   "outputs": [
    {
     "name": "stdout",
     "output_type": "stream",
     "text": [
      "<class 'pandas.core.frame.DataFrame'>\n",
      "Index: 12298 entries, 0 to 13318\n",
      "Data columns (total 7 columns):\n",
      " #   Column      Non-Null Count  Dtype  \n",
      "---  ------      --------------  -----  \n",
      " 0   area_type   12298 non-null  object \n",
      " 1   location    12298 non-null  object \n",
      " 2   size        12298 non-null  object \n",
      " 3   total_sqft  12298 non-null  float64\n",
      " 4   bath        12298 non-null  float64\n",
      " 5   balcony     12298 non-null  float64\n",
      " 6   price       12298 non-null  float64\n",
      "dtypes: float64(4), object(3)\n",
      "memory usage: 768.6+ KB\n"
     ]
    }
   ],
   "source": [
    "df\n",
    "df.info()"
   ],
   "metadata": {
    "collapsed": false,
    "ExecuteTime": {
     "end_time": "2023-08-26T04:22:53.643075900Z",
     "start_time": "2023-08-26T04:22:53.615150400Z"
    }
   }
  },
  {
   "cell_type": "markdown",
   "source": [
    "# Model Implementation"
   ],
   "metadata": {
    "collapsed": false
   }
  },
  {
   "cell_type": "code",
   "execution_count": 59,
   "outputs": [],
   "source": [
    "X = df.drop(columns='price')\n",
    "y = df['price']"
   ],
   "metadata": {
    "collapsed": false,
    "ExecuteTime": {
     "end_time": "2023-08-26T04:22:53.656580600Z",
     "start_time": "2023-08-26T04:22:53.629113200Z"
    }
   }
  },
  {
   "cell_type": "code",
   "execution_count": 60,
   "outputs": [],
   "source": [
    "from sklearn.model_selection import train_test_split\n",
    "from sklearn.pipeline import  make_pipeline\n",
    "from sklearn.compose import make_column_transformer,ColumnTransformer\n",
    "from sklearn.preprocessing import OneHotEncoder\n",
    "from sklearn.metrics import r2_score\n",
    "from sklearn.linear_model import LinearRegression,Lasso"
   ],
   "metadata": {
    "collapsed": false,
    "ExecuteTime": {
     "end_time": "2023-08-26T04:22:55.280244700Z",
     "start_time": "2023-08-26T04:22:53.647066Z"
    }
   }
  },
  {
   "cell_type": "code",
   "execution_count": 61,
   "outputs": [
    {
     "data": {
      "text/plain": "OneHotEncoder()",
      "text/html": "<style>#sk-container-id-1 {color: black;}#sk-container-id-1 pre{padding: 0;}#sk-container-id-1 div.sk-toggleable {background-color: white;}#sk-container-id-1 label.sk-toggleable__label {cursor: pointer;display: block;width: 100%;margin-bottom: 0;padding: 0.3em;box-sizing: border-box;text-align: center;}#sk-container-id-1 label.sk-toggleable__label-arrow:before {content: \"▸\";float: left;margin-right: 0.25em;color: #696969;}#sk-container-id-1 label.sk-toggleable__label-arrow:hover:before {color: black;}#sk-container-id-1 div.sk-estimator:hover label.sk-toggleable__label-arrow:before {color: black;}#sk-container-id-1 div.sk-toggleable__content {max-height: 0;max-width: 0;overflow: hidden;text-align: left;background-color: #f0f8ff;}#sk-container-id-1 div.sk-toggleable__content pre {margin: 0.2em;color: black;border-radius: 0.25em;background-color: #f0f8ff;}#sk-container-id-1 input.sk-toggleable__control:checked~div.sk-toggleable__content {max-height: 200px;max-width: 100%;overflow: auto;}#sk-container-id-1 input.sk-toggleable__control:checked~label.sk-toggleable__label-arrow:before {content: \"▾\";}#sk-container-id-1 div.sk-estimator input.sk-toggleable__control:checked~label.sk-toggleable__label {background-color: #d4ebff;}#sk-container-id-1 div.sk-label input.sk-toggleable__control:checked~label.sk-toggleable__label {background-color: #d4ebff;}#sk-container-id-1 input.sk-hidden--visually {border: 0;clip: rect(1px 1px 1px 1px);clip: rect(1px, 1px, 1px, 1px);height: 1px;margin: -1px;overflow: hidden;padding: 0;position: absolute;width: 1px;}#sk-container-id-1 div.sk-estimator {font-family: monospace;background-color: #f0f8ff;border: 1px dotted black;border-radius: 0.25em;box-sizing: border-box;margin-bottom: 0.5em;}#sk-container-id-1 div.sk-estimator:hover {background-color: #d4ebff;}#sk-container-id-1 div.sk-parallel-item::after {content: \"\";width: 100%;border-bottom: 1px solid gray;flex-grow: 1;}#sk-container-id-1 div.sk-label:hover label.sk-toggleable__label {background-color: #d4ebff;}#sk-container-id-1 div.sk-serial::before {content: \"\";position: absolute;border-left: 1px solid gray;box-sizing: border-box;top: 0;bottom: 0;left: 50%;z-index: 0;}#sk-container-id-1 div.sk-serial {display: flex;flex-direction: column;align-items: center;background-color: white;padding-right: 0.2em;padding-left: 0.2em;position: relative;}#sk-container-id-1 div.sk-item {position: relative;z-index: 1;}#sk-container-id-1 div.sk-parallel {display: flex;align-items: stretch;justify-content: center;background-color: white;position: relative;}#sk-container-id-1 div.sk-item::before, #sk-container-id-1 div.sk-parallel-item::before {content: \"\";position: absolute;border-left: 1px solid gray;box-sizing: border-box;top: 0;bottom: 0;left: 50%;z-index: -1;}#sk-container-id-1 div.sk-parallel-item {display: flex;flex-direction: column;z-index: 1;position: relative;background-color: white;}#sk-container-id-1 div.sk-parallel-item:first-child::after {align-self: flex-end;width: 50%;}#sk-container-id-1 div.sk-parallel-item:last-child::after {align-self: flex-start;width: 50%;}#sk-container-id-1 div.sk-parallel-item:only-child::after {width: 0;}#sk-container-id-1 div.sk-dashed-wrapped {border: 1px dashed gray;margin: 0 0.4em 0.5em 0.4em;box-sizing: border-box;padding-bottom: 0.4em;background-color: white;}#sk-container-id-1 div.sk-label label {font-family: monospace;font-weight: bold;display: inline-block;line-height: 1.2em;}#sk-container-id-1 div.sk-label-container {text-align: center;}#sk-container-id-1 div.sk-container {/* jupyter's `normalize.less` sets `[hidden] { display: none; }` but bootstrap.min.css set `[hidden] { display: none !important; }` so we also need the `!important` here to be able to override the default hidden behavior on the sphinx rendered scikit-learn.org. See: https://github.com/scikit-learn/scikit-learn/issues/21755 */display: inline-block !important;position: relative;}#sk-container-id-1 div.sk-text-repr-fallback {display: none;}</style><div id=\"sk-container-id-1\" class=\"sk-top-container\"><div class=\"sk-text-repr-fallback\"><pre>OneHotEncoder()</pre><b>In a Jupyter environment, please rerun this cell to show the HTML representation or trust the notebook. <br />On GitHub, the HTML representation is unable to render, please try loading this page with nbviewer.org.</b></div><div class=\"sk-container\" hidden><div class=\"sk-item\"><div class=\"sk-estimator sk-toggleable\"><input class=\"sk-toggleable__control sk-hidden--visually\" id=\"sk-estimator-id-1\" type=\"checkbox\" checked><label for=\"sk-estimator-id-1\" class=\"sk-toggleable__label sk-toggleable__label-arrow\">OneHotEncoder</label><div class=\"sk-toggleable__content\"><pre>OneHotEncoder()</pre></div></div></div></div></div>"
     },
     "execution_count": 61,
     "metadata": {},
     "output_type": "execute_result"
    }
   ],
   "source": [
    "ohe=OneHotEncoder()\n",
    "ohe.fit(X[['area_type','location','size']])"
   ],
   "metadata": {
    "collapsed": false,
    "ExecuteTime": {
     "end_time": "2023-08-26T04:22:55.315381500Z",
     "start_time": "2023-08-26T04:22:55.281241300Z"
    }
   }
  },
  {
   "cell_type": "code",
   "execution_count": 62,
   "outputs": [],
   "source": [
    "colums_trans = make_column_transformer((OneHotEncoder(categories=ohe.categories_),['area_type','location','size']),remainder='passthrough')"
   ],
   "metadata": {
    "collapsed": false,
    "ExecuteTime": {
     "end_time": "2023-08-26T04:22:55.355997900Z",
     "start_time": "2023-08-26T04:22:55.313389100Z"
    }
   }
  },
  {
   "cell_type": "code",
   "execution_count": 63,
   "outputs": [],
   "source": [
    "report = pd.DataFrame(columns=['     Model         ','   R2_score(%)  '])"
   ],
   "metadata": {
    "collapsed": false,
    "ExecuteTime": {
     "end_time": "2023-08-26T04:22:55.359984600Z",
     "start_time": "2023-08-26T04:22:55.329036700Z"
    }
   }
  },
  {
   "cell_type": "markdown",
   "source": [
    "## Linear Model"
   ],
   "metadata": {
    "collapsed": false
   }
  },
  {
   "cell_type": "code",
   "execution_count": 64,
   "outputs": [
    {
     "name": "stdout",
     "output_type": "stream",
     "text": [
      "72\n"
     ]
    }
   ],
   "source": [
    "score = []\n",
    "\n",
    "for i in range(1000):\n",
    "    X_train,X_test,y_train,y_test=train_test_split(X,y,test_size=0.2,random_state=i)\n",
    "    lr = LinearRegression()\n",
    "    pipe = make_pipeline(colums_trans,lr)\n",
    "    pipe.fit(X_train,y_train)\n",
    "    y_pred = pipe.predict(X_test)\n",
    "    score.append(r2_score(y_test,y_pred))\n",
    "mi = np.argmax(score)\n",
    "print(mi)\n",
    "mx = score[mi]\n",
    "report.loc['1']=['Linear regression',mx*100]"
   ],
   "metadata": {
    "collapsed": false,
    "ExecuteTime": {
     "end_time": "2023-08-26T04:23:31.213716700Z",
     "start_time": "2023-08-26T04:22:55.344996800Z"
    }
   }
  },
  {
   "cell_type": "markdown",
   "source": [
    "## Ridge Model"
   ],
   "metadata": {
    "collapsed": false
   }
  },
  {
   "cell_type": "code",
   "execution_count": 65,
   "outputs": [],
   "source": [
    "report.loc['2'] = ['Ridge',61.31]"
   ],
   "metadata": {
    "collapsed": false,
    "ExecuteTime": {
     "end_time": "2023-08-26T04:23:31.234889500Z",
     "start_time": "2023-08-26T04:23:31.215712500Z"
    }
   }
  },
  {
   "cell_type": "code",
   "execution_count": 66,
   "outputs": [
    {
     "data": {
      "text/plain": "       Model              R2_score(%)  \n1   Linear regression         66.404986\n2               Ridge         61.310000",
      "text/html": "<div>\n<style scoped>\n    .dataframe tbody tr th:only-of-type {\n        vertical-align: middle;\n    }\n\n    .dataframe tbody tr th {\n        vertical-align: top;\n    }\n\n    .dataframe thead th {\n        text-align: right;\n    }\n</style>\n<table border=\"1\" class=\"dataframe\">\n  <thead>\n    <tr style=\"text-align: right;\">\n      <th></th>\n      <th>Model</th>\n      <th>R2_score(%)</th>\n    </tr>\n  </thead>\n  <tbody>\n    <tr>\n      <th>1</th>\n      <td>Linear regression</td>\n      <td>66.404986</td>\n    </tr>\n    <tr>\n      <th>2</th>\n      <td>Ridge</td>\n      <td>61.310000</td>\n    </tr>\n  </tbody>\n</table>\n</div>"
     },
     "execution_count": 66,
     "metadata": {},
     "output_type": "execute_result"
    }
   ],
   "source": [
    "report"
   ],
   "metadata": {
    "collapsed": false,
    "ExecuteTime": {
     "end_time": "2023-08-26T04:23:31.243072400Z",
     "start_time": "2023-08-26T04:23:31.230900500Z"
    }
   }
  },
  {
   "cell_type": "code",
   "execution_count": 67,
   "outputs": [],
   "source": [
    "X_train,X_test,y_train,y_test = train_test_split(X,y,test_size=0.2,random_state=72)"
   ],
   "metadata": {
    "collapsed": false,
    "ExecuteTime": {
     "end_time": "2023-08-26T04:23:31.271560200Z",
     "start_time": "2023-08-26T04:23:31.244070400Z"
    }
   }
  },
  {
   "cell_type": "code",
   "execution_count": 68,
   "outputs": [
    {
     "name": "stderr",
     "output_type": "stream",
     "text": [
      "F:\\Machine learning python\\ML Advance alogrithms\\venv\\lib\\site-packages\\sklearn\\linear_model\\_coordinate_descent.py:589: ConvergenceWarning: Objective did not converge. You might want to increase the number of iterations. Duality gap: 50591109820.00537, tolerance: 151484692.03707328\n",
      "  model = cd_fast.sparse_enet_coordinate_descent(\n",
      "F:\\Machine learning python\\ML Advance alogrithms\\venv\\lib\\site-packages\\sklearn\\linear_model\\_coordinate_descent.py:589: ConvergenceWarning: Objective did not converge. You might want to increase the number of iterations. Duality gap: 254665163547.62592, tolerance: 151484692.03707328\n",
      "  model = cd_fast.sparse_enet_coordinate_descent(\n"
     ]
    },
    {
     "name": "stdout",
     "output_type": "stream",
     "text": [
      "67.16694800016295 1\n"
     ]
    },
    {
     "name": "stderr",
     "output_type": "stream",
     "text": [
      "F:\\Machine learning python\\ML Advance alogrithms\\venv\\lib\\site-packages\\sklearn\\linear_model\\_coordinate_descent.py:589: ConvergenceWarning: Objective did not converge. You might want to increase the number of iterations. Duality gap: 222094747061.89566, tolerance: 151484692.03707328\n",
      "  model = cd_fast.sparse_enet_coordinate_descent(\n"
     ]
    }
   ],
   "source": [
    "scores = []\n",
    "l1 = [0.1,0.01,0.001,1,0.00001]\n",
    "for i in l1:\n",
    "    l = Lasso(alpha=i)\n",
    "    pipe = make_pipeline(colums_trans,l)\n",
    "    pipe.fit(X_train,y_train)\n",
    "    y_pred = pipe.predict(X_test)\n",
    "    scores.append(r2_score(y_test,y_pred)*100)\n",
    "mi = np.argmax(scores)\n",
    "mxS = scores[mi]\n",
    "mxa = l1[mi]\n",
    "print(mxS,mxa)\n",
    "report.loc['3'] = ['Lesso',mxS]"
   ],
   "metadata": {
    "collapsed": false,
    "ExecuteTime": {
     "end_time": "2023-08-26T04:24:41.946790400Z",
     "start_time": "2023-08-26T04:23:31.262585700Z"
    }
   }
  },
  {
   "cell_type": "code",
   "execution_count": 69,
   "outputs": [
    {
     "data": {
      "text/plain": "       Model              R2_score(%)  \n1   Linear regression         66.404986\n2               Ridge         61.310000\n3               Lesso         67.166948",
      "text/html": "<div>\n<style scoped>\n    .dataframe tbody tr th:only-of-type {\n        vertical-align: middle;\n    }\n\n    .dataframe tbody tr th {\n        vertical-align: top;\n    }\n\n    .dataframe thead th {\n        text-align: right;\n    }\n</style>\n<table border=\"1\" class=\"dataframe\">\n  <thead>\n    <tr style=\"text-align: right;\">\n      <th></th>\n      <th>Model</th>\n      <th>R2_score(%)</th>\n    </tr>\n  </thead>\n  <tbody>\n    <tr>\n      <th>1</th>\n      <td>Linear regression</td>\n      <td>66.404986</td>\n    </tr>\n    <tr>\n      <th>2</th>\n      <td>Ridge</td>\n      <td>61.310000</td>\n    </tr>\n    <tr>\n      <th>3</th>\n      <td>Lesso</td>\n      <td>67.166948</td>\n    </tr>\n  </tbody>\n</table>\n</div>"
     },
     "execution_count": 69,
     "metadata": {},
     "output_type": "execute_result"
    }
   ],
   "source": [
    "report"
   ],
   "metadata": {
    "collapsed": false,
    "ExecuteTime": {
     "end_time": "2023-08-26T04:24:41.963314400Z",
     "start_time": "2023-08-26T04:24:41.948937400Z"
    }
   }
  },
  {
   "cell_type": "code",
   "execution_count": 70,
   "outputs": [
    {
     "name": "stdout",
     "output_type": "stream",
     "text": [
      "0.4293697737433745 1\n"
     ]
    }
   ],
   "source": [
    "from sklearn.neighbors import KNeighborsRegressor\n",
    "scores = []\n",
    "for i in range(1,20):\n",
    "    m = KNeighborsRegressor(n_neighbors=i)\n",
    "    pipe = make_pipeline(colums_trans,m)\n",
    "    pipe.fit(X_train,y_train)\n",
    "    y_pred = pipe.predict(X_test)\n",
    "    scores.append(r2_score(y_pred,y_test))\n",
    "mi = np.argmax(scores)\n",
    "mx = scores[mi]\n",
    "print(mx,mi)\n",
    "report.loc['4'] = ['KNN',mx*100]"
   ],
   "metadata": {
    "collapsed": false,
    "ExecuteTime": {
     "end_time": "2023-08-26T04:24:48.692966900Z",
     "start_time": "2023-08-26T04:24:41.965309600Z"
    }
   }
  },
  {
   "cell_type": "code",
   "execution_count": 71,
   "outputs": [],
   "source": [
    "report.loc['5'] = ['Random Forest',r2_score(y_test,y_pred)*100]"
   ],
   "metadata": {
    "collapsed": false,
    "ExecuteTime": {
     "end_time": "2023-08-26T04:24:48.708924700Z",
     "start_time": "2023-08-26T04:24:48.693965700Z"
    }
   }
  },
  {
   "cell_type": "code",
   "execution_count": 72,
   "outputs": [
    {
     "data": {
      "text/plain": "       Model              R2_score(%)  \n1   Linear regression         66.404986\n2               Ridge         61.310000\n3               Lesso         67.166948\n4                 KNN         42.936977\n5       Random Forest         58.106110",
      "text/html": "<div>\n<style scoped>\n    .dataframe tbody tr th:only-of-type {\n        vertical-align: middle;\n    }\n\n    .dataframe tbody tr th {\n        vertical-align: top;\n    }\n\n    .dataframe thead th {\n        text-align: right;\n    }\n</style>\n<table border=\"1\" class=\"dataframe\">\n  <thead>\n    <tr style=\"text-align: right;\">\n      <th></th>\n      <th>Model</th>\n      <th>R2_score(%)</th>\n    </tr>\n  </thead>\n  <tbody>\n    <tr>\n      <th>1</th>\n      <td>Linear regression</td>\n      <td>66.404986</td>\n    </tr>\n    <tr>\n      <th>2</th>\n      <td>Ridge</td>\n      <td>61.310000</td>\n    </tr>\n    <tr>\n      <th>3</th>\n      <td>Lesso</td>\n      <td>67.166948</td>\n    </tr>\n    <tr>\n      <th>4</th>\n      <td>KNN</td>\n      <td>42.936977</td>\n    </tr>\n    <tr>\n      <th>5</th>\n      <td>Random Forest</td>\n      <td>58.106110</td>\n    </tr>\n  </tbody>\n</table>\n</div>"
     },
     "execution_count": 72,
     "metadata": {},
     "output_type": "execute_result"
    }
   ],
   "source": [
    "report"
   ],
   "metadata": {
    "collapsed": false,
    "ExecuteTime": {
     "end_time": "2023-08-26T04:24:48.756798100Z",
     "start_time": "2023-08-26T04:24:48.710919100Z"
    }
   }
  },
  {
   "cell_type": "code",
   "execution_count": 73,
   "outputs": [
    {
     "name": "stdout",
     "output_type": "stream",
     "text": [
      "0.7301181779638637\n"
     ]
    }
   ],
   "source": [
    "from xgboost import XGBRegressor\n",
    "\n",
    "x = XGBRegressor(n_estimators=500)\n",
    "pipe = make_pipeline(colums_trans,x)\n",
    "pipe.fit(X_train,y_train)\n",
    "y_pred = pipe.predict(X_test)\n",
    "print(r2_score(y_test,y_pred))\n",
    "report.loc['6'] = ['Xg Boost',r2_score(y_test,y_pred)*100]"
   ],
   "metadata": {
    "collapsed": false,
    "ExecuteTime": {
     "end_time": "2023-08-26T04:24:52.363048200Z",
     "start_time": "2023-08-26T04:24:48.757796200Z"
    }
   }
  },
  {
   "cell_type": "code",
   "execution_count": 74,
   "outputs": [
    {
     "data": {
      "text/plain": "       Model              R2_score(%)  \n1   Linear regression         66.404986\n2               Ridge         61.310000\n3               Lesso         67.166948\n4                 KNN         42.936977\n5       Random Forest         58.106110\n6            Xg Boost         73.011818",
      "text/html": "<div>\n<style scoped>\n    .dataframe tbody tr th:only-of-type {\n        vertical-align: middle;\n    }\n\n    .dataframe tbody tr th {\n        vertical-align: top;\n    }\n\n    .dataframe thead th {\n        text-align: right;\n    }\n</style>\n<table border=\"1\" class=\"dataframe\">\n  <thead>\n    <tr style=\"text-align: right;\">\n      <th></th>\n      <th>Model</th>\n      <th>R2_score(%)</th>\n    </tr>\n  </thead>\n  <tbody>\n    <tr>\n      <th>1</th>\n      <td>Linear regression</td>\n      <td>66.404986</td>\n    </tr>\n    <tr>\n      <th>2</th>\n      <td>Ridge</td>\n      <td>61.310000</td>\n    </tr>\n    <tr>\n      <th>3</th>\n      <td>Lesso</td>\n      <td>67.166948</td>\n    </tr>\n    <tr>\n      <th>4</th>\n      <td>KNN</td>\n      <td>42.936977</td>\n    </tr>\n    <tr>\n      <th>5</th>\n      <td>Random Forest</td>\n      <td>58.106110</td>\n    </tr>\n    <tr>\n      <th>6</th>\n      <td>Xg Boost</td>\n      <td>73.011818</td>\n    </tr>\n  </tbody>\n</table>\n</div>"
     },
     "execution_count": 74,
     "metadata": {},
     "output_type": "execute_result"
    }
   ],
   "source": [
    "report"
   ],
   "metadata": {
    "collapsed": false,
    "ExecuteTime": {
     "end_time": "2023-08-26T04:24:52.390974100Z",
     "start_time": "2023-08-26T04:24:52.363048200Z"
    }
   }
  },
  {
   "cell_type": "code",
   "execution_count": 75,
   "outputs": [
    {
     "name": "stdout",
     "output_type": "stream",
     "text": [
      "0.6854647923111508\n"
     ]
    }
   ],
   "source": [
    "from sklearn.ensemble import GradientBoostingRegressor\n",
    "g = GradientBoostingRegressor()\n",
    "pipe = make_pipeline(colums_trans,g)\n",
    "pipe.fit(X_train,y_train)\n",
    "y_pred = pipe.predict(X_test)\n",
    "print(r2_score(y_test,y_pred))"
   ],
   "metadata": {
    "collapsed": false,
    "ExecuteTime": {
     "end_time": "2023-08-26T04:24:55.086842500Z",
     "start_time": "2023-08-26T04:24:52.381998200Z"
    }
   }
  },
  {
   "cell_type": "code",
   "execution_count": 76,
   "outputs": [
    {
     "name": "stdout",
     "output_type": "stream",
     "text": [
      "-0.24254889798246015\n"
     ]
    }
   ],
   "source": [
    "from sklearn.ensemble import AdaBoostRegressor\n",
    "a = AdaBoostRegressor()\n",
    "pipe = make_pipeline(colums_trans,a)\n",
    "pipe.fit(X_train,y_train)\n",
    "y_pred = pipe.predict(X_test)\n",
    "print(r2_score(y_test,y_pred))"
   ],
   "metadata": {
    "collapsed": false,
    "ExecuteTime": {
     "end_time": "2023-08-26T04:24:55.775760100Z",
     "start_time": "2023-08-26T04:24:55.086842500Z"
    }
   }
  },
  {
   "cell_type": "code",
   "execution_count": 77,
   "outputs": [
    {
     "name": "stdout",
     "output_type": "stream",
     "text": [
      "0.7618597110358355\n"
     ]
    }
   ],
   "source": [
    "from sklearn.ensemble import ExtraTreesRegressor\n",
    "e = ExtraTreesRegressor(n_estimators=100,max_depth=32)\n",
    "pipe = make_pipeline(colums_trans,e)\n",
    "pipe.fit(X_train,y_train)\n",
    "y_pred = pipe.predict(X_test)\n",
    "print(r2_score(y_test,y_pred))"
   ],
   "metadata": {
    "collapsed": false,
    "ExecuteTime": {
     "end_time": "2023-08-26T04:25:31.017546500Z",
     "start_time": "2023-08-26T04:24:55.776757700Z"
    }
   }
  },
  {
   "cell_type": "code",
   "execution_count": 78,
   "outputs": [],
   "source": [
    "report.loc['7']=['ExtraTree',r2_score(y_test,y_pred)*100]"
   ],
   "metadata": {
    "collapsed": false,
    "ExecuteTime": {
     "end_time": "2023-08-26T04:25:31.024533100Z",
     "start_time": "2023-08-26T04:25:31.010564400Z"
    }
   }
  },
  {
   "cell_type": "code",
   "execution_count": 79,
   "outputs": [],
   "source": [
    "import pickle"
   ],
   "metadata": {
    "collapsed": false,
    "ExecuteTime": {
     "end_time": "2023-08-26T04:25:31.060540600Z",
     "start_time": "2023-08-26T04:25:31.030520100Z"
    }
   }
  },
  {
   "cell_type": "code",
   "execution_count": 80,
   "outputs": [],
   "source": [
    "pickle.dump(df,open('df.pkl','wb'))\n",
    "pickle.dump(pipe,open('pipe.pkl','wb'))"
   ],
   "metadata": {
    "collapsed": false,
    "ExecuteTime": {
     "end_time": "2023-08-26T04:25:31.164683800Z",
     "start_time": "2023-08-26T04:25:31.053560600Z"
    }
   }
  },
  {
   "cell_type": "code",
   "execution_count": 81,
   "outputs": [
    {
     "data": {
      "text/plain": "array([6345.22105709])"
     },
     "execution_count": 81,
     "metadata": {},
     "output_type": "execute_result"
    }
   ],
   "source": [
    "pipe.predict(pd.DataFrame([['Plot','Gandhi Bazar','3 BHK','1400.0','2.0','1.0']],columns=['area_type','location','size','total_sqft','bath','balcony']))"
   ],
   "metadata": {
    "collapsed": false,
    "ExecuteTime": {
     "end_time": "2023-08-26T04:25:31.198593400Z",
     "start_time": "2023-08-26T04:25:31.165681500Z"
    }
   }
  },
  {
   "cell_type": "code",
   "execution_count": 82,
   "outputs": [
    {
     "data": {
      "text/plain": "array(['Super', 'Plot', 'Built-up', 'Carpet'], dtype=object)"
     },
     "execution_count": 82,
     "metadata": {},
     "output_type": "execute_result"
    }
   ],
   "source": [
    "df['area_type'].unique()"
   ],
   "metadata": {
    "collapsed": false,
    "ExecuteTime": {
     "end_time": "2023-08-26T04:25:31.213554100Z",
     "start_time": "2023-08-26T04:25:31.196598400Z"
    }
   }
  },
  {
   "cell_type": "code",
   "execution_count": 83,
   "outputs": [],
   "source": [
    "df.to_csv('Cleaned_data.csv')"
   ],
   "metadata": {
    "collapsed": false,
    "ExecuteTime": {
     "end_time": "2023-08-26T04:25:31.323259200Z",
     "start_time": "2023-08-26T04:25:31.212555800Z"
    }
   }
  }
 ],
 "metadata": {
  "kernelspec": {
   "display_name": "Python 3",
   "language": "python",
   "name": "python3"
  },
  "language_info": {
   "codemirror_mode": {
    "name": "ipython",
    "version": 2
   },
   "file_extension": ".py",
   "mimetype": "text/x-python",
   "name": "python",
   "nbconvert_exporter": "python",
   "pygments_lexer": "ipython2",
   "version": "2.7.6"
  }
 },
 "nbformat": 4,
 "nbformat_minor": 0
}
